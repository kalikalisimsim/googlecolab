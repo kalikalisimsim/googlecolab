{
  "nbformat": 4,
  "nbformat_minor": 0,
  "metadata": {
    "colab": {
      "provenance": [],
      "authorship_tag": "ABX9TyNlaNiNbsM60KRzf1ZlUSfm",
      "include_colab_link": true
    },
    "kernelspec": {
      "name": "python3",
      "display_name": "Python 3"
    },
    "language_info": {
      "name": "python"
    }
  },
  "cells": [
    {
      "cell_type": "markdown",
      "metadata": {
        "id": "view-in-github",
        "colab_type": "text"
      },
      "source": [
        "<a href=\"https://colab.research.google.com/github/kalikalisimsim/googlecolab/blob/main/lists.ipynb\" target=\"_parent\"><img src=\"https://colab.research.google.com/assets/colab-badge.svg\" alt=\"Open In Colab\"/></a>"
      ]
    },
    {
      "cell_type": "code",
      "execution_count": 2,
      "metadata": {
        "colab": {
          "base_uri": "https://localhost:8080/"
        },
        "id": "dSuIE4FiQBwa",
        "outputId": "763ec3ac-d248-4368-a370-c56365ff995e"
      },
      "outputs": [
        {
          "output_type": "execute_result",
          "data": {
            "text/plain": [
              "[]"
            ]
          },
          "metadata": {},
          "execution_count": 2
        }
      ],
      "source": [
        "lst=[]\n",
        "lst"
      ]
    },
    {
      "cell_type": "code",
      "source": [
        "a=list(\"string\")\n",
        "a\n"
      ],
      "metadata": {
        "colab": {
          "base_uri": "https://localhost:8080/"
        },
        "id": "7gQL09soQR8e",
        "outputId": "44230458-4dbe-4330-970e-711eb789eebc"
      },
      "execution_count": 4,
      "outputs": [
        {
          "output_type": "execute_result",
          "data": {
            "text/plain": [
              "['s', 't', 'r', 'i', 'n', 'g']"
            ]
          },
          "metadata": {},
          "execution_count": 4
        }
      ]
    },
    {
      "cell_type": "code",
      "source": [],
      "metadata": {
        "id": "6VfMImttQyYa"
      },
      "execution_count": null,
      "outputs": []
    },
    {
      "cell_type": "code",
      "source": [
        "b={1:\"sim\",2:\"sum\",3:\"sam\"}\n",
        "b"
      ],
      "metadata": {
        "colab": {
          "base_uri": "https://localhost:8080/"
        },
        "id": "LekQJy_PQa_B",
        "outputId": "b77be36b-d2c4-410e-df66-f32641535efd"
      },
      "execution_count": 8,
      "outputs": [
        {
          "output_type": "execute_result",
          "data": {
            "text/plain": [
              "{1: 'sim', 2: 'sum', 3: 'sam'}"
            ]
          },
          "metadata": {},
          "execution_count": 8
        }
      ]
    },
    {
      "cell_type": "code",
      "source": [
        "list(b.values())"
      ],
      "metadata": {
        "colab": {
          "base_uri": "https://localhost:8080/"
        },
        "id": "BI1NUAmqRjJc",
        "outputId": "66765715-cc6a-41d1-e0f0-6f9b745a2656"
      },
      "execution_count": 9,
      "outputs": [
        {
          "output_type": "execute_result",
          "data": {
            "text/plain": [
              "['sim', 'sum', 'sam']"
            ]
          },
          "metadata": {},
          "execution_count": 9
        }
      ]
    },
    {
      "cell_type": "markdown",
      "source": [
        "keys only generated from dictionary as parameter in list constructor \"default\""
      ],
      "metadata": {
        "id": "50zqbRoXQ69Y"
      }
    },
    {
      "cell_type": "code",
      "source": [
        "list(b.items())"
      ],
      "metadata": {
        "colab": {
          "base_uri": "https://localhost:8080/"
        },
        "id": "e2dLXBKASF5o",
        "outputId": "a555f029-fe77-49bb-c8d6-f1d00180ca26"
      },
      "execution_count": 10,
      "outputs": [
        {
          "output_type": "execute_result",
          "data": {
            "text/plain": [
              "[(1, 'sim'), (2, 'sum'), (3, 'sam')]"
            ]
          },
          "metadata": {},
          "execution_count": 10
        }
      ]
    },
    {
      "cell_type": "code",
      "source": [
        "list(b.keys())"
      ],
      "metadata": {
        "colab": {
          "base_uri": "https://localhost:8080/"
        },
        "id": "d-wNzWXSSMpS",
        "outputId": "404fa779-70a7-43a6-a402-3becb927186a"
      },
      "execution_count": 11,
      "outputs": [
        {
          "output_type": "execute_result",
          "data": {
            "text/plain": [
              "[1, 2, 3]"
            ]
          },
          "metadata": {},
          "execution_count": 11
        }
      ]
    },
    {
      "cell_type": "markdown",
      "source": [
        "# repetition"
      ],
      "metadata": {
        "id": "Ag5DuvwNSYMb"
      }
    },
    {
      "cell_type": "code",
      "source": [
        "a=[1]*5\n",
        "a"
      ],
      "metadata": {
        "colab": {
          "base_uri": "https://localhost:8080/"
        },
        "id": "g0X63jgISfB_",
        "outputId": "9773145b-670f-4d18-9e15-60188f1db623"
      },
      "execution_count": 12,
      "outputs": [
        {
          "output_type": "execute_result",
          "data": {
            "text/plain": [
              "[1, 1, 1, 1, 1]"
            ]
          },
          "metadata": {},
          "execution_count": 12
        }
      ]
    },
    {
      "cell_type": "code",
      "source": [
        "z=[a]*5,[b]*2\n",
        "z"
      ],
      "metadata": {
        "colab": {
          "base_uri": "https://localhost:8080/"
        },
        "id": "CyeMnKvvSlrs",
        "outputId": "c754857d-689c-4388-9658-436ebb3035e9"
      },
      "execution_count": 14,
      "outputs": [
        {
          "output_type": "execute_result",
          "data": {
            "text/plain": [
              "([[1, 1, 1, 1, 1],\n",
              "  [1, 1, 1, 1, 1],\n",
              "  [1, 1, 1, 1, 1],\n",
              "  [1, 1, 1, 1, 1],\n",
              "  [1, 1, 1, 1, 1]],\n",
              " [{1: 'sim', 2: 'sum', 3: 'sam'}, {1: 'sim', 2: 'sum', 3: 'sam'}])"
            ]
          },
          "metadata": {},
          "execution_count": 14
        }
      ]
    },
    {
      "cell_type": "markdown",
      "source": [
        "# list **comprehension**"
      ],
      "metadata": {
        "id": "pFMy9HfZTeB1"
      }
    },
    {
      "cell_type": "code",
      "source": [
        "square=[x**2 for x in range(10)]\n",
        "square"
      ],
      "metadata": {
        "colab": {
          "base_uri": "https://localhost:8080/"
        },
        "id": "qbdvYvelTv9V",
        "outputId": "bed4de36-b007-4c3c-a0e3-73f81d68763d"
      },
      "execution_count": 15,
      "outputs": [
        {
          "output_type": "execute_result",
          "data": {
            "text/plain": [
              "[0, 1, 4, 9, 16, 25, 36, 49, 64, 81]"
            ]
          },
          "metadata": {},
          "execution_count": 15
        }
      ]
    },
    {
      "cell_type": "markdown",
      "source": [
        "squares of a number as list\n"
      ],
      "metadata": {
        "id": "4CGSWiYxTs3B"
      }
    },
    {
      "cell_type": "markdown",
      "source": [
        "even numbers\n"
      ],
      "metadata": {
        "id": "w1ZREd8xUBn_"
      }
    },
    {
      "cell_type": "code",
      "source": [
        "even=[x for x in range(20) if x%2==0]\n",
        "even"
      ],
      "metadata": {
        "colab": {
          "base_uri": "https://localhost:8080/"
        },
        "id": "NeDXBuIbUHSd",
        "outputId": "9325b7f2-4e77-4a88-de76-22e05f837f63"
      },
      "execution_count": 17,
      "outputs": [
        {
          "output_type": "execute_result",
          "data": {
            "text/plain": [
              "[0, 2, 4, 6, 8, 10, 12, 14, 16, 18]"
            ]
          },
          "metadata": {},
          "execution_count": 17
        }
      ]
    },
    {
      "cell_type": "markdown",
      "source": [
        "characters in a string"
      ],
      "metadata": {
        "id": "pY6P5-MSUjn1"
      }
    },
    {
      "cell_type": "code",
      "source": [
        "char=[x for x in \"simaljaan\"]\n",
        "char"
      ],
      "metadata": {
        "colab": {
          "base_uri": "https://localhost:8080/"
        },
        "id": "tI1q38IDUuzm",
        "outputId": "e4a6b9f3-c329-4dc5-a83f-ded0ee54d174"
      },
      "execution_count": 18,
      "outputs": [
        {
          "output_type": "execute_result",
          "data": {
            "text/plain": [
              "['s', 'i', 'm', 'a', 'l', 'j', 'a', 'a', 'n']"
            ]
          },
          "metadata": {},
          "execution_count": 18
        }
      ]
    },
    {
      "cell_type": "markdown",
      "source": [],
      "metadata": {
        "id": "8_m91DjHU2de"
      }
    }
  ]
}