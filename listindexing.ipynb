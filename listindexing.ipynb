{
  "nbformat": 4,
  "nbformat_minor": 0,
  "metadata": {
    "colab": {
      "provenance": [],
      "authorship_tag": "ABX9TyMq/tFnGRRF0K0M+pvwqNS6",
      "include_colab_link": true
    },
    "kernelspec": {
      "name": "python3",
      "display_name": "Python 3"
    },
    "language_info": {
      "name": "python"
    }
  },
  "cells": [
    {
      "cell_type": "markdown",
      "metadata": {
        "id": "view-in-github",
        "colab_type": "text"
      },
      "source": [
        "<a href=\"https://colab.research.google.com/github/kalikalisimsim/googlecolab/blob/main/listindexing.ipynb\" target=\"_parent\"><img src=\"https://colab.research.google.com/assets/colab-badge.svg\" alt=\"Open In Colab\"/></a>"
      ]
    },
    {
      "cell_type": "markdown",
      "source": [
        "# **list indexing**"
      ],
      "metadata": {
        "id": "9el0eHSsAce5"
      }
    },
    {
      "cell_type": "markdown",
      "source": [
        "basic positive indexing"
      ],
      "metadata": {
        "id": "6XzgsMuDAZpV"
      }
    },
    {
      "cell_type": "code",
      "source": [
        "a=[\"simal\",\"sumi\",\"samu\",\"saam\"]\n",
        "print(a[0])\n",
        "print(a[1])\n",
        "print(a[2])\n",
        "print(a[3])"
      ],
      "metadata": {
        "colab": {
          "base_uri": "https://localhost:8080/"
        },
        "id": "81FTcOuWBCGV",
        "outputId": "ad6c1a66-e0e9-408e-a2a4-45e68dec1b41"
      },
      "execution_count": null,
      "outputs": [
        {
          "output_type": "stream",
          "name": "stdout",
          "text": [
            "simal\n",
            "sumi\n",
            "samu\n",
            "saam\n"
          ]
        }
      ]
    },
    {
      "cell_type": "markdown",
      "source": [
        "Negative Indexing"
      ],
      "metadata": {
        "id": "DLYPvHnSE3SL"
      }
    },
    {
      "cell_type": "code",
      "source": [
        "print(a[-1])\n",
        "print(a[-2])\n",
        "print(a[-3])"
      ],
      "metadata": {
        "colab": {
          "base_uri": "https://localhost:8080/"
        },
        "id": "_PMgotynBmGp",
        "outputId": "97ad3874-3460-42c6-cc1a-b4b18a2f8181"
      },
      "execution_count": null,
      "outputs": [
        {
          "output_type": "stream",
          "name": "stdout",
          "text": [
            "saam\n",
            "samu\n",
            "sumi\n"
          ]
        }
      ]
    },
    {
      "cell_type": "markdown",
      "source": [
        "Index inside Loops"
      ],
      "metadata": {
        "id": "X0FB5pAYFFks"
      }
    },
    {
      "cell_type": "code",
      "source": [
        "for i in range(len(a)):\n",
        "  print(i,a[i])"
      ],
      "metadata": {
        "colab": {
          "base_uri": "https://localhost:8080/"
        },
        "id": "pq4q0n6hFLoT",
        "outputId": "0618e3e1-9d02-4b26-b7dd-cf3028e2e160"
      },
      "execution_count": null,
      "outputs": [
        {
          "output_type": "stream",
          "name": "stdout",
          "text": [
            "0 simal\n",
            "1 sumi\n",
            "2 samu\n",
            "3 saam\n"
          ]
        }
      ]
    },
    {
      "cell_type": "markdown",
      "source": [
        "Nested Indexing (Lists inside Lists)"
      ],
      "metadata": {
        "id": "7B14mkAKHHBL"
      }
    },
    {
      "cell_type": "code",
      "source": [
        "c=[2,3,[1,2,3]]\n",
        "print(c[0])\n",
        "print(c[1])\n",
        "print(c[2][0])\n",
        "print(c[2][1])\n",
        "print(c[2][2])"
      ],
      "metadata": {
        "colab": {
          "base_uri": "https://localhost:8080/"
        },
        "id": "oLXfWtcLHIip",
        "outputId": "5c50d041-4bd6-490e-b3b6-3f164400008e"
      },
      "execution_count": null,
      "outputs": [
        {
          "output_type": "stream",
          "name": "stdout",
          "text": [
            "2\n",
            "3\n",
            "1\n",
            "2\n",
            "3\n"
          ]
        }
      ]
    },
    {
      "cell_type": "code",
      "source": [
        "s=[[1,2],2,[1,2,3]]\n",
        "print(s[0][0])\n",
        "print(s[0][1])\n",
        "print(s[1])\n",
        "print(s[2][0])\n",
        "print(s[2][1])\n",
        "print(s[2][2])"
      ],
      "metadata": {
        "colab": {
          "base_uri": "https://localhost:8080/"
        },
        "id": "psr8cvdxHynv",
        "outputId": "4b07cd9c-e2ed-4365-fb7a-cc56e0c73b28"
      },
      "execution_count": null,
      "outputs": [
        {
          "output_type": "stream",
          "name": "stdout",
          "text": [
            "1\n",
            "2\n",
            "2\n",
            "1\n",
            "2\n",
            "3\n"
          ]
        }
      ]
    },
    {
      "cell_type": "markdown",
      "source": [
        "Indexing with enumerate()"
      ],
      "metadata": {
        "id": "bLkOA9xJIsKx"
      }
    },
    {
      "cell_type": "code",
      "source": [
        "w=[\"apple\",\"orange\",\"kiwi\",\"banana\"]\n",
        "for k,v in enumerate(w):\n",
        "  print(k,v)"
      ],
      "metadata": {
        "colab": {
          "base_uri": "https://localhost:8080/"
        },
        "id": "ZYh4QKObIuXc",
        "outputId": "a7e26888-79c6-4003-c21c-73161ae0842d"
      },
      "execution_count": null,
      "outputs": [
        {
          "output_type": "stream",
          "name": "stdout",
          "text": [
            "0 apple\n",
            "1 orange\n",
            "2 kiwi\n",
            "3 banana\n"
          ]
        }
      ]
    },
    {
      "cell_type": "code",
      "source": [
        "v=\"exile by taylorswift\"\n",
        "for i,j in enumerate(v):\n",
        "  print(i,j)\n"
      ],
      "metadata": {
        "colab": {
          "base_uri": "https://localhost:8080/"
        },
        "id": "yO82kuUVJ69o",
        "outputId": "52c1b2d2-998e-43a1-81fc-7093e1bf58ee"
      },
      "execution_count": null,
      "outputs": [
        {
          "output_type": "stream",
          "name": "stdout",
          "text": [
            "0 e\n",
            "1 x\n",
            "2 i\n",
            "3 l\n",
            "4 e\n",
            "5  \n",
            "6 b\n",
            "7 y\n",
            "8  \n",
            "9 t\n",
            "10 a\n",
            "11 y\n",
            "12 l\n",
            "13 o\n",
            "14 r\n",
            "15 s\n",
            "16 w\n",
            "17 i\n",
            "18 f\n",
            "19 t\n"
          ]
        }
      ]
    },
    {
      "cell_type": "markdown",
      "source": [
        "Index Search (.index())"
      ],
      "metadata": {
        "id": "jLvvTI0OKRyC"
      }
    },
    {
      "cell_type": "code",
      "source": [
        "print(w.index(\"kiwi\"))"
      ],
      "metadata": {
        "colab": {
          "base_uri": "https://localhost:8080/"
        },
        "id": "-LL7RBshK-bx",
        "outputId": "2aa16181-4015-4aad-f628-70b72f9cbed3"
      },
      "execution_count": null,
      "outputs": [
        {
          "output_type": "stream",
          "name": "stdout",
          "text": [
            "2\n"
          ]
        }
      ]
    },
    {
      "cell_type": "code",
      "source": [
        "print(s.index([1,2]))"
      ],
      "metadata": {
        "colab": {
          "base_uri": "https://localhost:8080/"
        },
        "id": "q6x0N9xiLiVJ",
        "outputId": "1f9f2c13-6d89-489b-d29f-9f17744c99b6"
      },
      "execution_count": null,
      "outputs": [
        {
          "output_type": "stream",
          "name": "stdout",
          "text": [
            "0\n"
          ]
        }
      ]
    },
    {
      "cell_type": "code",
      "source": [
        "nums = [12, 45, 23, 89, 5]\n",
        "for i in range(len(nums)):\n",
        "  for j in range(i+1,len(nums)):\n",
        "    if nums[i]>nums[j]:\n",
        "      nums[i],nums[j]=nums[j],nums[i]\n",
        "print(nums[-1])"
      ],
      "metadata": {
        "colab": {
          "base_uri": "https://localhost:8080/"
        },
        "id": "BrZsP3_ZMKBS",
        "outputId": "fb8a7126-dee2-4624-ae41-759bea12b751"
      },
      "execution_count": null,
      "outputs": [
        {
          "output_type": "stream",
          "name": "stdout",
          "text": [
            "89\n"
          ]
        }
      ]
    },
    {
      "cell_type": "code",
      "source": [
        "largest=nums[0] #assuming that largest number is first element\n",
        "for num in nums:\n",
        "  if num>largest:\n",
        "    largest=num\n",
        "print(largest)"
      ],
      "metadata": {
        "colab": {
          "base_uri": "https://localhost:8080/"
        },
        "id": "iRgaRB16Rw6_",
        "outputId": "a83803f5-4bd8-4a7d-d71e-6f4f9bfd4a21"
      },
      "execution_count": null,
      "outputs": [
        {
          "output_type": "stream",
          "name": "stdout",
          "text": [
            "89\n"
          ]
        }
      ]
    },
    {
      "cell_type": "code",
      "source": [
        "q=[1,2,3,4,5]\n",
        "count=0\n",
        "for i in q:\n",
        "  count+=1\n",
        "print(count)\n"
      ],
      "metadata": {
        "id": "70V2spC8SNoA",
        "colab": {
          "base_uri": "https://localhost:8080/"
        },
        "outputId": "35b3e49e-10b8-4c96-d251-9384d046afcd"
      },
      "execution_count": 1,
      "outputs": [
        {
          "output_type": "stream",
          "name": "stdout",
          "text": [
            "5\n"
          ]
        }
      ]
    },
    {
      "cell_type": "code",
      "source": [
        "n=(input(\"enter some words\"))\n",
        "def count(a):\n",
        "  coun=0\n",
        "  for i in a:\n",
        "    coun+=1\n",
        "  return coun\n",
        "print(count(n))\n",
        "\n"
      ],
      "metadata": {
        "colab": {
          "base_uri": "https://localhost:8080/"
        },
        "id": "gFkwEjCNvhhh",
        "outputId": "4de0bed6-bcef-4d41-8067-e6885d585b5f"
      },
      "execution_count": 13,
      "outputs": [
        {
          "output_type": "stream",
          "name": "stdout",
          "text": [
            "enter some wordssimaljaan shamnadh\n",
            "18\n"
          ]
        }
      ]
    },
    {
      "cell_type": "code",
      "source": [
        "d=[1,2,3,4,5,6]\n",
        "rev=[]\n",
        "for i in range(-1,-len(d)-1,-1):\n",
        "  rev.append(d[i])\n",
        "print(rev)"
      ],
      "metadata": {
        "colab": {
          "base_uri": "https://localhost:8080/"
        },
        "id": "mvFxd-rnz5tV",
        "outputId": "4faaac17-912e-46e4-b70e-53ccee54a4e5"
      },
      "execution_count": 26,
      "outputs": [
        {
          "output_type": "stream",
          "name": "stdout",
          "text": [
            "[6, 5, 4, 3, 2, 1]\n"
          ]
        }
      ]
    },
    {
      "cell_type": "code",
      "source": [
        "p=[\"m\",\"a\",\"l\",\"a\",\"y\",\"a\",\"l\",\"a\",\"m\"]\n",
        "is_palindrome=True\n",
        "for i in range(len(p)//2):\n",
        "    if p[i]!=p[len(p)-1-i]:\n",
        "      is_palindrome=False\n",
        "      break\n",
        "if is_palindrome:\n",
        "  print(\"pali\")\n",
        "else:\n",
        "  print(\"not pali\")"
      ],
      "metadata": {
        "colab": {
          "base_uri": "https://localhost:8080/"
        },
        "id": "bpvfbXti_Zda",
        "outputId": "146fd673-eb85-4f5b-f991-f5d91fe3713b"
      },
      "execution_count": 65,
      "outputs": [
        {
          "output_type": "stream",
          "name": "stdout",
          "text": [
            "pali\n"
          ]
        }
      ]
    },
    {
      "cell_type": "code",
      "source": [],
      "metadata": {
        "id": "VnGhZ6xRCVtj"
      },
      "execution_count": null,
      "outputs": []
    }
  ]
}